{
  "nbformat": 4,
  "nbformat_minor": 0,
  "metadata": {
    "colab": {
      "provenance": []
    },
    "kernelspec": {
      "name": "python3",
      "display_name": "Python 3"
    },
    "language_info": {
      "name": "python"
    }
  },
  "cells": [
    {
      "cell_type": "code",
      "execution_count": 5,
      "metadata": {
        "colab": {
          "base_uri": "https://localhost:8080/"
        },
        "id": "_7ApOYkT1KT_",
        "outputId": "c79ca60c-1135-4141-b9ed-f128bed735d8"
      },
      "outputs": [
        {
          "output_type": "stream",
          "name": "stdout",
          "text": [
            "Is your salary 'monthly' or 'yearly'? yearly\n",
            "Enter your yearly salary (PKR): 1200000\n",
            "Income Tax Calculation (2025)\n",
            "Annual Tax Payable: Rs. 30000\n",
            "Monthly Tax Payable: Rs. 2500\n"
          ]
        }
      ],
      "source": [
        "def calculate_tax(annual_salary):\n",
        "    if annual_salary <= 600000:\n",
        "        tax = 0\n",
        "    elif annual_salary <= 1200000:\n",
        "        tax = annual_salary * 2.5 / 100\n",
        "    elif annual_salary <= 1800000:\n",
        "        tax = annual_salary * 6.67 / 100\n",
        "    elif annual_salary <= 2400000:\n",
        "        tax = annual_salary * 9.58 / 100\n",
        "    elif annual_salary <= 2700000:\n",
        "        tax = annual_salary * 11.30 / 100\n",
        "    elif annual_salary <= 3000000:\n",
        "        tax = annual_salary * 12.67 / 100\n",
        "    elif annual_salary <= 3600000:\n",
        "        tax = annual_salary * 15.28 / 100\n",
        "    elif annual_salary <= 4200000:\n",
        "        tax = annual_salary * 17.50 / 100\n",
        "    elif annual_salary <= 4800000:\n",
        "        tax = annual_salary * 19.69 / 100\n",
        "    elif annual_salary <= 5400000:\n",
        "        tax = annual_salary * 21.39 / 100\n",
        "    elif annual_salary <= 6000000:\n",
        "        tax = annual_salary * 22.75 / 100\n",
        "    elif annual_salary <= 6600000:\n",
        "        tax = annual_salary * 23.86 / 100\n",
        "    elif annual_salary <= 7200000:\n",
        "        tax = annual_salary * 24.79 / 100\n",
        "    elif annual_salary <= 9600000:\n",
        "        tax = annual_salary * 27.34 / 100\n",
        "    elif annual_salary <= 12000000:\n",
        "        tax = annual_salary * 31.76 / 100\n",
        "    elif annual_salary <= 18000000:\n",
        "        tax = annual_salary * 34.01 / 100\n",
        "    elif annual_salary <= 24000000:\n",
        "        tax = annual_salary * 35.13 / 100\n",
        "    elif annual_salary <= 20000000:\n",
        "        tax = annual_salary * 53.70 / 100\n",
        "    elif annual_salary <= 33600000:\n",
        "        tax = annual_salary * 36.09 / 100\n",
        "    else:\n",
        "        tax = annual_salary * 36.26 / 100\n",
        "    return tax\n",
        "salary_type = input(\"Is your salary 'monthly' or 'yearly'? \")\n",
        "if salary_type == \"monthly\":\n",
        "    monthly_salary = int(input(\"Enter your monthly salary (PKR): \"))\n",
        "    annual_salary = monthly_salary * 12\n",
        "elif salary_type == \"yearly\":\n",
        "    annual_salary = int(input(\"Enter your yearly salary (PKR): \"))\n",
        "else:\n",
        "    print(\"Invalid input. Please type 'monthly' or 'yearly'.\")\n",
        "    exit()\n",
        "annual_tax = calculate_tax(annual_salary)\n",
        "monthly_tax = annual_tax / 12\n",
        "print(\"Income Tax Calculation (2025)\")\n",
        "print(f\"Annual Tax Payable: Rs. {round(annual_tax)}\")\n",
        "print(f\"Monthly Tax Payable: Rs. {round(monthly_tax)}\")\n"
      ]
    }
  ]
}